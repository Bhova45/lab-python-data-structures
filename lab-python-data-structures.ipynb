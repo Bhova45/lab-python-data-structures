{
 "cells": [
  {
   "cell_type": "markdown",
   "metadata": {
    "tags": []
   },
   "source": [
    "# Lab | Data Structures "
   ]
  },
  {
   "cell_type": "markdown",
   "metadata": {},
   "source": [
    "## Exercise: Managing Customer Orders\n",
    "\n",
    "As part of a business venture, you are starting an online store that sells various products. To ensure smooth operations, you need to develop a program that manages customer orders and inventory.\n",
    "\n",
    "Follow the steps below to complete the exercise:\n",
    "\n",
    "1. Define a list called `products` that contains the following items: \"t-shirt\", \"mug\", \"hat\", \"book\", \"keychain\".\n",
    "\n",
    "2. Create an empty dictionary called `inventory`.\n",
    "\n",
    "3. Ask the user to input the quantity of each product available in the inventory. Use the product names from the `products` list as keys in the `inventory` dictionary and assign the respective quantities as values.\n",
    "\n",
    "4. Create an empty set called `customer_orders`.\n",
    "\n",
    "5. Ask the user to input the name of three products that a customer wants to order (from those in the products list, meaning three products out of \"t-shirt\", \"mug\", \"hat\", \"book\" or \"keychain\". Add each product name to the `customer_orders` set.\n",
    "\n",
    "6. Print the products in the `customer_orders` set.\n",
    "\n",
    "7. Calculate the following order statistics:\n",
    "   - Total Products Ordered: The total number of products in the `customer_orders` set.\n",
    "   - Percentage of Products Ordered: The percentage of products ordered compared to the total available products.\n",
    "   \n",
    "   Store these statistics in a tuple called `order_status`.\n",
    "\n",
    "8. Print the order statistics using the following format:\n",
    "   ```\n",
    "   Order Statistics:\n",
    "   Total Products Ordered: <total_products_ordered>\n",
    "   Percentage of Products Ordered: <percentage_ordered>% \n",
    "   ```\n",
    "\n",
    "9. Update the inventory by subtracting 1 from the quantity of each product. Modify the `inventory` dictionary accordingly.\n",
    "\n",
    "10. Print the updated inventory, displaying the quantity of each product on separate lines.\n",
    "\n",
    "Solve the exercise by implementing the steps using the Python concepts of lists, dictionaries, sets, and basic input/output operations. "
   ]
  },
  {
   "cell_type": "code",
   "execution_count": 20,
   "metadata": {},
   "outputs": [
    {
     "name": "stdout",
     "output_type": "stream",
     "text": [
      "['t-shirt', 'mug', 'hat', 'book', 'keychain']\n"
     ]
    }
   ],
   "source": [
    "# define a list called products \n",
    "products = [\"t-shirt\", \"mug\", \"hat\", \"book\", \"keychain\"]\n",
    "print(products)"
   ]
  },
  {
   "cell_type": "code",
   "execution_count": 21,
   "metadata": {},
   "outputs": [],
   "source": [
    "# create an empty dictionary called inventory\n",
    "# This is where the dictionary is defined and initialized \n",
    "inventory = {}\n"
   ]
  },
  {
   "cell_type": "code",
   "execution_count": 35,
   "metadata": {},
   "outputs": [
    {
     "name": "stdout",
     "output_type": "stream",
     "text": [
      "\n",
      "--- Step 3: Set Initial Inventory Stock ---\n",
      "\n",
      "Inventory Dictionary after setup: {'t-shirt': 3, 'mug': 5, 'hat': 7, 'book': 2, 'keychain': 5}\n"
     ]
    }
   ],
   "source": [
    "# Assuming these variables are already defined:\n",
    "# products = [\"t-shirt\", \"mug\", \"hat\", \"book\", \"keychain\"]\n",
    "# inventory = {}\n",
    "\n",
    "# Ask the user to input the quantity for each product in the inventory.\n",
    "print(\"\\n--- Step 3: Set Initial Inventory Stock ---\")\n",
    "\n",
    "for product in products:\n",
    "    # Ask the user for the quantity for the current product\n",
    "    quantity_input = input(f\"Enter stock quantity for {product}: \")\n",
    "    \n",
    "    # Convert the input string to an integer\n",
    "    # (Assuming the user enters a valid whole number for simplicity)\n",
    "    quantity = int(quantity_input)\n",
    "    \n",
    "    # Assign the product name as the KEY and the quantity as the VALUE\n",
    "    inventory[product] = quantity\n",
    "\n",
    "print(\"\\nInventory Dictionary after setup:\", inventory)\n"
   ]
  },
  {
   "cell_type": "code",
   "execution_count": 36,
   "metadata": {},
   "outputs": [],
   "source": [
    "# create an empty set called customer_orders\n",
    "customer_orders = set()"
   ]
  },
  {
   "cell_type": "code",
   "execution_count": 37,
   "metadata": {},
   "outputs": [
    {
     "name": "stdout",
     "output_type": "stream",
     "text": [
      "\n",
      "--- Step 5: Take Customer Order ---\n",
      "Available products: ['t-shirt', 'mug', 'hat', 'book', 'keychain']\n"
     ]
    }
   ],
   "source": [
    "# Assuming 'products' list and empty 'customer_orders' set are already defined.\n",
    "\n",
    "# Ask the user for three products and add them to the customer_orders set\n",
    "print(\"\\n--- Step 5: Take Customer Order ---\")\n",
    "print(\"Available products:\", products)\n",
    "\n",
    "# Loop three times to ask for three products\n",
    "for i in range(3):\n",
    "    while True:\n",
    "        # Get input, convert to lowercase, and remove extra spaces\n",
    "        product_name = input(f\"Enter product #{i+1} name: \").lower().strip()\n",
    "        \n",
    "        # Check if the entered product name is valid\n",
    "        if product_name in products:\n",
    "            # Add the valid product to the set (sets only store unique items)\n",
    "            customer_orders.add(product_name)\n",
    "            break  # Exit the inner 'while' loop to move to the next product prompt\n",
    "        else:\n",
    "            print(f\"'{product_name}' is not a valid product. Please enter a name from the list.\")\n",
    "\n",
    "\n"
   ]
  },
  {
   "cell_type": "code",
   "execution_count": 53,
   "metadata": {},
   "outputs": [
    {
     "name": "stdout",
     "output_type": "stream",
     "text": [
      "Products in customer_orders Set: {'hat', 'mug', 't-shirt'}\n"
     ]
    }
   ],
   "source": [
    "# Print the products in the customer_orders set\n",
    "print(\"Products in customer_orders Set:\", customer_orders)\n"
   ]
  },
  {
   "cell_type": "code",
   "execution_count": 54,
   "metadata": {},
   "outputs": [],
   "source": [
    "# Calculate the order statistics \n",
    "total_products_ordered = len(customer_orders)\n",
    "total_available_products = len(products)\n",
    "if total_available_products > 0:\n",
    "    percentage_ordered = (total_products_ordered/ total_available_products) * 100\n",
    "else:\n",
    "    percentage_ordered = 0"
   ]
  },
  {
   "cell_type": "code",
   "execution_count": 55,
   "metadata": {},
   "outputs": [],
   "source": [
    "# Assuming variables were calculate successfully in the previous call:\n",
    "total_products_ordered = 3\n",
    "total_available_products = 5\n",
    "total_percentage_ordered = 60\n",
    "\n",
    "# Store these statistic in a tuple called order_status\n",
    "order_status = (total_products_ordered, total_available_products, total_percentage_ordered)"
   ]
  },
  {
   "cell_type": "code",
   "execution_count": 62,
   "metadata": {},
   "outputs": [
    {
     "name": "stdout",
     "output_type": "stream",
     "text": [
      "\n",
      "--- Order Status ---\n",
      "Total Products Ordered: <3>\n",
      "Total Available Products: <5>\n",
      "Percentage of Products Ordered: <60.0%>\n"
     ]
    }
   ],
   "source": [
    "# Print the order statistics using the specified format\n",
    "print(\"\\n--- Order Status ---\")\n",
    "print(f\"Total Products Ordered: <{order_status[0]}>\")  # Accesses the first item (Index 0)\n",
    "print(f\"Total Available Products: <{order_status[1]}>\") # Accesses the second item (Index 1)\n",
    "# Accesses the third item (Index 2) and applies the float format (:.1f)\n",
    "print(f\"Percentage of Products Ordered: <{order_status[2]:.1f}%>\")\n"
   ]
  },
  {
   "cell_type": "code",
   "execution_count": 63,
   "metadata": {},
   "outputs": [
    {
     "name": "stdout",
     "output_type": "stream",
     "text": [
      "\n",
      "--- Step 10: Updating Inventory Stock ---\n",
      "\n",
      "Updated Inventory:\n",
      "t-shirt: 1\n",
      "mug: 3\n",
      "hat: 5\n",
      "book: 2\n",
      "keychain: 5\n"
     ]
    }
   ],
   "source": [
    "# Update the inventory by subtracting 1 from the quantity of each product ordered.\n",
    "# Print the updated inventory, displaying the quantity of each product on separate lines.\n",
    "print(\"\\n--- Step 10: Updating Inventory Stock ---\")\n",
    "\n",
    "for product in customer_orders:\n",
    "    # Check if the product exists in inventory and has stock remaining (to prevent errors)\n",
    "    if product in inventory and inventory[product] > 0:\n",
    "        inventory[product] -= 1  # Subtract 1 from the stock value\n",
    "\n",
    "print(\"\\nUpdated Inventory:\")\n",
    "# Iterate through the dictionary's items to print the final stock\n",
    "for product, quantity in inventory.items():\n",
    "    print(f\"{product}: {quantity}\")\n"
   ]
  }
 ],
 "metadata": {
  "kernelspec": {
   "display_name": "base",
   "language": "python",
   "name": "python3"
  },
  "language_info": {
   "codemirror_mode": {
    "name": "ipython",
    "version": 3
   },
   "file_extension": ".py",
   "mimetype": "text/x-python",
   "name": "python",
   "nbconvert_exporter": "python",
   "pygments_lexer": "ipython3",
   "version": "3.13.5"
  }
 },
 "nbformat": 4,
 "nbformat_minor": 4
}
